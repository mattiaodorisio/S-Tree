{
 "cells": [
  {
   "cell_type": "code",
   "execution_count": null,
   "metadata": {},
   "outputs": [],
   "source": [
    "import plotly.express as px\n",
    "import pandas as pd"
   ]
  },
  {
   "cell_type": "code",
   "execution_count": null,
   "metadata": {},
   "outputs": [],
   "source": [
    "# This read a file line by line skipping the lines that start with \"Synth\"\n",
    "class InFile(object):\n",
    "    def __init__(self, infile):\n",
    "        self.infile = open(infile)\n",
    "        self.initialized = False\n",
    "\n",
    "    def __next__(self):\n",
    "        return self.next()\n",
    "\n",
    "    def __iter__(self):\n",
    "        return self\n",
    "\n",
    "    def read(self, *args, **kwargs):\n",
    "        return self.__next__()\n",
    "\n",
    "    def next(self):\n",
    "        try:\n",
    "            if not self.initialized:\n",
    "                self.initialized = True\n",
    "                for _ in range(9):\n",
    "                    self.infile.readline()\n",
    "            line: str = self.infile.readline()\n",
    "            return line\n",
    "        except:\n",
    "            self.infile.close()\n",
    "            raise StopIteration"
   ]
  },
  {
   "cell_type": "code",
   "execution_count": null,
   "metadata": {},
   "outputs": [],
   "source": [
    "# Read csv file\n",
    "df = pd.read_csv(InFile('grid1.csv'))\n",
    "\n",
    "# Drop unused columns\n",
    "df = df.drop(columns=['bytes_per_second', 'items_per_second', 'label', 'error_occurred', 'error_message'])\n",
    "\n",
    "# Filter the mean\n",
    "df_std = df[df['name'].str.contains('stddev')]\n",
    "df = df[df['name'].str.contains('mean')]\n",
    "\n",
    "# Drop BINARY SEARCH --- TODO: remove this\n",
    "df = df[~df['name'].str.contains('SearchFixture')]\n",
    "\n",
    "df = df.reset_index(drop=True)\n",
    "df"
   ]
  },
  {
   "cell_type": "code",
   "execution_count": null,
   "metadata": {},
   "outputs": [],
   "source": [
    "df_std_errors = df_std[df_std['real_time'] > 10]\n",
    "pd.options.display.max_colwidth = 100\n",
    "df_std_errors"
   ]
  },
  {
   "cell_type": "code",
   "execution_count": null,
   "metadata": {},
   "outputs": [],
   "source": [
    "# String example: 'sampled_b_tree_fixture<SIMD_Btree::SIMD_ext::AVX2, 2>/b_plus_256_2/0/10000000_mean'\n",
    "def extract_ext(s): \n",
    "    try:\n",
    "        return s.split('/')[0].split('<')[1].split(',')[0].split('::')[2].strip()\n",
    "    except IndexError:\n",
    "        return 0\n",
    "\n",
    "def extract_vec_sz(s):\n",
    "    try:\n",
    "        return s.split('>/')[0].split('<')[1].split(',')[1].strip()\n",
    "    except IndexError:\n",
    "        return 0\n",
    "    \n",
    "extract_tree_type = lambda s: s.split('/')[0].split('<')[0].replace('_fixture', '').strip()\n",
    "extract_input_sz = lambda s: s.split('/')[-1].split('_')[0].strip()\n",
    "extract_distr = lambda s: s.split('/')[-2].strip()"
   ]
  },
  {
   "cell_type": "code",
   "execution_count": null,
   "metadata": {},
   "outputs": [],
   "source": [
    "df['bench_type'] = df['name'].apply(extract_tree_type)\n",
    "df['simd_ext'] = df['name'].apply(extract_ext)\n",
    "df['simd_vec_sz'] = df['name'].apply(extract_vec_sz)\n",
    "df['input_sz'] = df['name'].apply(extract_input_sz)\n",
    "df['input_distr'] = df['name'].apply(extract_distr)\n",
    "df = df.drop(columns=['name'])\n",
    "\n",
    "df"
   ]
  },
  {
   "cell_type": "code",
   "execution_count": null,
   "metadata": {},
   "outputs": [],
   "source": [
    "df['bench_unique'] = df['bench_type'].str.cat(df['simd_ext'], sep='_')\n",
    "df"
   ]
  },
  {
   "cell_type": "code",
   "execution_count": null,
   "metadata": {},
   "outputs": [],
   "source": [
    "df[(df['input_sz'] == '1000000') & (df['simd_vec_sz'] == '2')]"
   ]
  },
  {
   "cell_type": "code",
   "execution_count": null,
   "metadata": {},
   "outputs": [],
   "source": [
    "id2dist = {0: 'Uniform', 1: 'Exponential', 2: 'Books', 3: 'Wiki'}"
   ]
  },
  {
   "cell_type": "code",
   "execution_count": null,
   "metadata": {},
   "outputs": [],
   "source": [
    "# Plot the benchmark\n",
    "df['facet_splitter'] = df['input_sz'].str.cat(df['input_distr'], sep='_')\n",
    "fig = px.line(df, x='simd_vec_sz', y='real_time', color='bench_unique', title=f'Input sz', facet_col='facet_splitter', facet_col_wrap=4, height=1200)\n",
    "fig.update_yaxes(matches=None)\n",
    "fig.for_each_yaxis(lambda axis: axis.update(showticklabels=True))\n",
    "fig.for_each_xaxis(lambda axis: axis.update(showticklabels=True))\n",
    "fig.for_each_annotation(lambda a: a.update(text=f\"size: {int(a.text.split('=')[-1].split('_')[0])/1000000}M - distr: {id2dist[int(a.text.split('=')[-1].split('_')[1])]}\"))\n",
    "fig.show()"
   ]
  },
  {
   "cell_type": "code",
   "execution_count": null,
   "metadata": {},
   "outputs": [],
   "source": []
  }
 ],
 "metadata": {
  "kernelspec": {
   "display_name": ".venv",
   "language": "python",
   "name": "python3"
  },
  "language_info": {
   "codemirror_mode": {
    "name": "ipython",
    "version": 3
   },
   "file_extension": ".py",
   "mimetype": "text/x-python",
   "name": "python",
   "nbconvert_exporter": "python",
   "pygments_lexer": "ipython3",
   "version": "3.11.9"
  }
 },
 "nbformat": 4,
 "nbformat_minor": 2
}
